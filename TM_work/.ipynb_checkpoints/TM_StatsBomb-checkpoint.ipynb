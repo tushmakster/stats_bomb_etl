{
 "cells": [
  {
   "cell_type": "code",
   "execution_count": 1,
   "metadata": {},
   "outputs": [],
   "source": [
    "# import all libraries needed. \n",
    "# might need to install a few using !pip install nameOfmodule\n",
    "\n",
    "import matplotlib.pyplot as plt\n",
    "import pandas as pd\n",
    "import numpy as np\n",
    "import json\n",
    "import os\n",
    "import scandir"
   ]
  },
  {
   "cell_type": "markdown",
   "metadata": {},
   "source": [
    "*Working with Event Files*"
   ]
  },
  {
   "cell_type": "code",
   "execution_count": 2,
   "metadata": {},
   "outputs": [
    {
     "name": "stdout",
     "output_type": "stream",
     "text": [
      "['7298.json', '7497.json']\n"
     ]
    }
   ],
   "source": [
    "# list all events json - only included 2 files for now for ease\n",
    "\n",
    "events_path = os.path.join(\"..\",\"events\")\n",
    "json_events = [pos_json for pos_json in os.listdir(events_path) if pos_json.endswith('.json')]\n",
    "\n",
    "print(json_events)\n"
   ]
  },
  {
   "cell_type": "code",
   "execution_count": 23,
   "metadata": {},
   "outputs": [
    {
     "data": {
      "text/plain": [
       "[['7298.json', {'id': 746, 'name': 'Manchester City WFC'}],\n",
       " ['7298.json', {'id': 971, 'name': 'Chelsea LFC'}],\n",
       " ['7497.json', {'id': 761, 'name': 'Chicago Red Stars'}],\n",
       " ['7497.json', {'id': 766, 'name': 'North Carolina Courage'}]]"
      ]
     },
     "execution_count": 23,
     "metadata": {},
     "output_type": "execute_result"
    }
   ],
   "source": [
    "# Test 1 - get some object data frome each json and append to event_list\n",
    "event_list = []\n",
    "\n",
    "for i in json_events:\n",
    "    with open( os.path.join(events_path,i) , 'r') as match_file:\n",
    "        data=match_file.read()\n",
    "        obj = json.loads(data)\n",
    "        event_list.append([i,obj[0][\"team\"]])\n",
    "        event_list.append([i,obj[1][\"team\"]])\n",
    "\n",
    "event_list"
   ]
  },
  {
   "cell_type": "code",
   "execution_count": null,
   "metadata": {},
   "outputs": [],
   "source": []
  }
 ],
 "metadata": {
  "kernelspec": {
   "display_name": "Python 3",
   "language": "python",
   "name": "python3"
  },
  "language_info": {
   "codemirror_mode": {
    "name": "ipython",
    "version": 3
   },
   "file_extension": ".py",
   "mimetype": "text/x-python",
   "name": "python",
   "nbconvert_exporter": "python",
   "pygments_lexer": "ipython3",
   "version": "3.7.3"
  }
 },
 "nbformat": 4,
 "nbformat_minor": 4
}
