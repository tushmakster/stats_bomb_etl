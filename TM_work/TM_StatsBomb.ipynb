{
 "cells": [
  {
   "cell_type": "code",
   "execution_count": 2,
   "metadata": {},
   "outputs": [],
   "source": [
    "# import all libraries needed. \n",
    "# might need to install a few using !pip install nameOfmodule\n",
    "\n",
    "import matplotlib.pyplot as plt\n",
    "import pandas as pd\n",
    "import numpy as np\n",
    "import json\n",
    "import os\n",
    "import scandir"
   ]
  },
  {
   "cell_type": "markdown",
   "metadata": {},
   "source": [
    "# Working with Event Files - EXTRACT"
   ]
  },
  {
   "cell_type": "code",
   "execution_count": 3,
   "metadata": {},
   "outputs": [
    {
     "name": "stdout",
     "output_type": "stream",
     "text": [
      "['7298.json', '7430.json', '7443.json', '7444.json', '7445.json', '7451.json', '7456.json', '7457.json', '7471.json', '7472.json', '7473.json', '7474.json', '7475.json', '7476.json', '7477.json', '7478.json', '7479.json', '7480.json', '7482.json', '7483.json', '7484.json', '7485.json', '7486.json', '7487.json', '7490.json', '7492.json', '7493.json', '7494.json', '7496.json', '7497.json']\n"
     ]
    }
   ],
   "source": [
    "# list all events json - only included few files for now for ease\n",
    "\n",
    "events_path = os.path.join(\"..\",\"events\")\n",
    "json_events = [pos_json for pos_json in os.listdir(events_path) if pos_json.endswith('.json')]\n",
    "\n",
    "print(json_events)\n"
   ]
  },
  {
   "cell_type": "code",
   "execution_count": 8,
   "metadata": {},
   "outputs": [
    {
     "data": {
      "text/plain": [
       "[['7298.json', {'id': 746, 'name': 'Manchester City WFC'}],\n",
       " ['7298.json', {'id': 971, 'name': 'Chelsea LFC'}],\n",
       " ['7430.json', {'id': 759, 'name': 'Washington Spirit'}],\n",
       " ['7430.json', {'id': 766, 'name': 'North Carolina Courage'}],\n",
       " ['7443.json', {'id': 765, 'name': 'Portland Thorns'}],\n",
       " ['7443.json', {'id': 760, 'name': 'Seattle Reign'}]]"
      ]
     },
     "execution_count": 8,
     "metadata": {},
     "output_type": "execute_result"
    }
   ],
   "source": [
    "# Test 1 - get some object data frome each json and append to event_list\n",
    "event_list = []\n",
    "\n",
    "for i in json_events:\n",
    "    with open( os.path.join(events_path,i) , 'r') as match_file:\n",
    "        data=match_file.read()\n",
    "        obj = json.loads(data)\n",
    "        event_list.append([i,obj[0][\"team\"]])\n",
    "        event_list.append([i,obj[1][\"team\"]])\n",
    "\n",
    "event_list[0:6]"
   ]
  },
  {
   "cell_type": "markdown",
   "metadata": {},
   "source": [
    "# Dataset of most common formations - TRANSFORMATION"
   ]
  },
  {
   "cell_type": "code",
   "execution_count": 5,
   "metadata": {},
   "outputs": [],
   "source": [
    "# extract team name, and formation used for each event json\n",
    "\n",
    "team_name = []\n",
    "formation = []\n",
    "\n",
    "for i in json_events:\n",
    "    with open( os.path.join(events_path,i) , 'r') as match_file:\n",
    "        data=match_file.read()\n",
    "        obj = json.loads(data)\n",
    "        team_name.append(obj[0][\"team\"][\"name\"])\n",
    "        team_name.append(obj[1][\"team\"][\"name\"])\n",
    "        formation.append(obj[0][\"tactics\"][\"formation\"])\n",
    "        formation.append(obj[1][\"tactics\"][\"formation\"])"
   ]
  },
  {
   "cell_type": "code",
   "execution_count": 18,
   "metadata": {},
   "outputs": [
    {
     "data": {
      "text/html": [
       "<div>\n",
       "<style scoped>\n",
       "    .dataframe tbody tr th:only-of-type {\n",
       "        vertical-align: middle;\n",
       "    }\n",
       "\n",
       "    .dataframe tbody tr th {\n",
       "        vertical-align: top;\n",
       "    }\n",
       "\n",
       "    .dataframe thead th {\n",
       "        text-align: right;\n",
       "    }\n",
       "</style>\n",
       "<table border=\"1\" class=\"dataframe\">\n",
       "  <thead>\n",
       "    <tr style=\"text-align: right;\">\n",
       "      <th></th>\n",
       "      <th>name</th>\n",
       "      <th>formation</th>\n",
       "    </tr>\n",
       "  </thead>\n",
       "  <tbody>\n",
       "    <tr>\n",
       "      <td>0</td>\n",
       "      <td>Manchester City WFC</td>\n",
       "      <td>433</td>\n",
       "    </tr>\n",
       "    <tr>\n",
       "      <td>1</td>\n",
       "      <td>Chelsea LFC</td>\n",
       "      <td>352</td>\n",
       "    </tr>\n",
       "    <tr>\n",
       "      <td>2</td>\n",
       "      <td>Washington Spirit</td>\n",
       "      <td>433</td>\n",
       "    </tr>\n",
       "    <tr>\n",
       "      <td>3</td>\n",
       "      <td>North Carolina Courage</td>\n",
       "      <td>442</td>\n",
       "    </tr>\n",
       "    <tr>\n",
       "      <td>4</td>\n",
       "      <td>Portland Thorns</td>\n",
       "      <td>3412</td>\n",
       "    </tr>\n",
       "  </tbody>\n",
       "</table>\n",
       "</div>"
      ],
      "text/plain": [
       "                     name  formation\n",
       "0     Manchester City WFC        433\n",
       "1             Chelsea LFC        352\n",
       "2       Washington Spirit        433\n",
       "3  North Carolina Courage        442\n",
       "4         Portland Thorns       3412"
      ]
     },
     "execution_count": 18,
     "metadata": {},
     "output_type": "execute_result"
    }
   ],
   "source": [
    "# put it into df\n",
    "\n",
    "df = pd.DataFrame({\"name\":team_name,\"formation\":formation})\n",
    "df.head()"
   ]
  },
  {
   "cell_type": "markdown",
   "metadata": {},
   "source": [
    "# connecting lineups and events"
   ]
  },
  {
   "cell_type": "code",
   "execution_count": 43,
   "metadata": {},
   "outputs": [],
   "source": [
    "# extract lineup\n",
    "\n",
    "lineups_path = os.path.join(\"..\",\"lineups\")\n",
    "lineup = []\n",
    "\n",
    "for i in json_events:\n",
    "    with open( os.path.join(lineups_path,i) , 'r') as match_file:\n",
    "        data=match_file.read()\n",
    "        obj = json.loads(data)\n",
    "        for i in range(11):\n",
    "            lineup.append(obj[1][\"lineup\"][i][\"player_name\"])\n",
    "        for i in range(11):\n",
    "            lineup.append(obj[0][\"lineup\"][i][\"player_name\"])\n",
    "        \n"
   ]
  },
  {
   "cell_type": "code",
   "execution_count": 44,
   "metadata": {},
   "outputs": [],
   "source": [
    "#create space for putting lineups\n",
    "for i in range(11):\n",
    "    df[str(i)] = \"\""
   ]
  },
  {
   "cell_type": "code",
   "execution_count": 45,
   "metadata": {},
   "outputs": [],
   "source": [
    "#insert lineups into data frame\n",
    "for j in range(11):\n",
    "    list_dummy = []\n",
    "    for i in range(0, len(lineup), 11):\n",
    "        list_dummy.append(lineup[i+j])\n",
    "    df[str(j)] = list_dummy\n",
    "\n",
    "\n"
   ]
  },
  {
   "cell_type": "code",
   "execution_count": 46,
   "metadata": {},
   "outputs": [
    {
     "data": {
      "text/html": [
       "<div>\n",
       "<style scoped>\n",
       "    .dataframe tbody tr th:only-of-type {\n",
       "        vertical-align: middle;\n",
       "    }\n",
       "\n",
       "    .dataframe tbody tr th {\n",
       "        vertical-align: top;\n",
       "    }\n",
       "\n",
       "    .dataframe thead th {\n",
       "        text-align: right;\n",
       "    }\n",
       "</style>\n",
       "<table border=\"1\" class=\"dataframe\">\n",
       "  <thead>\n",
       "    <tr style=\"text-align: right;\">\n",
       "      <th></th>\n",
       "      <th>name</th>\n",
       "      <th>formation</th>\n",
       "      <th>0</th>\n",
       "      <th>1</th>\n",
       "      <th>2</th>\n",
       "      <th>3</th>\n",
       "      <th>4</th>\n",
       "      <th>5</th>\n",
       "      <th>6</th>\n",
       "      <th>7</th>\n",
       "      <th>8</th>\n",
       "      <th>9</th>\n",
       "      <th>10</th>\n",
       "    </tr>\n",
       "  </thead>\n",
       "  <tbody>\n",
       "    <tr>\n",
       "      <td>0</td>\n",
       "      <td>Manchester City WFC</td>\n",
       "      <td>433</td>\n",
       "      <td>Julia Spetsmark</td>\n",
       "      <td>Ellie Roebuck</td>\n",
       "      <td>Georgia Stanway</td>\n",
       "      <td>Jill Scott</td>\n",
       "      <td>Isobel Christiansen</td>\n",
       "      <td>Claire Emslie</td>\n",
       "      <td>Abbie McManus</td>\n",
       "      <td>Esme Beth Morgan</td>\n",
       "      <td>Nadia Nadim</td>\n",
       "      <td>Demi Stokes</td>\n",
       "      <td>Jane Ross</td>\n",
       "    </tr>\n",
       "    <tr>\n",
       "      <td>1</td>\n",
       "      <td>Chelsea LFC</td>\n",
       "      <td>352</td>\n",
       "      <td>Magdalena Ericsson</td>\n",
       "      <td>Crystal Dunn</td>\n",
       "      <td>Maria Thorisdottir</td>\n",
       "      <td>Drew Spence</td>\n",
       "      <td>Maren Mjelde</td>\n",
       "      <td>Rut Hedvig Lindahl</td>\n",
       "      <td>Francesca Kirby</td>\n",
       "      <td>Millie Bright</td>\n",
       "      <td>So-yun Ji</td>\n",
       "      <td>Hannah Jayne Blundell</td>\n",
       "      <td>Anita Amma Ankyewah Asante</td>\n",
       "    </tr>\n",
       "    <tr>\n",
       "      <td>2</td>\n",
       "      <td>Washington Spirit</td>\n",
       "      <td>433</td>\n",
       "      <td>Jessica McDonald</td>\n",
       "      <td>Darian Jenkins</td>\n",
       "      <td>Abby Erceg</td>\n",
       "      <td>Allysha Chapman</td>\n",
       "      <td>Jaelene Hinkle</td>\n",
       "      <td>Meredith Speck</td>\n",
       "      <td>Lynn Williams</td>\n",
       "      <td>Kristen Hamilton</td>\n",
       "      <td>Abby Dahlkemper</td>\n",
       "      <td>Merritt Mathias</td>\n",
       "      <td>Denise O\"Sullivan</td>\n",
       "    </tr>\n",
       "    <tr>\n",
       "      <td>3</td>\n",
       "      <td>North Carolina Courage</td>\n",
       "      <td>442</td>\n",
       "      <td>Andi Sullivan</td>\n",
       "      <td>Taylor Smith</td>\n",
       "      <td>Estelle Johnson</td>\n",
       "      <td>Havana Solaun</td>\n",
       "      <td>Joanna Lohman</td>\n",
       "      <td>Whitney Church</td>\n",
       "      <td>Mallory Eubanks</td>\n",
       "      <td>Caprice Dydasco</td>\n",
       "      <td>Ashley Hatch</td>\n",
       "      <td>Francisca Ordega</td>\n",
       "      <td>Mallory Pugh</td>\n",
       "    </tr>\n",
       "    <tr>\n",
       "      <td>4</td>\n",
       "      <td>Portland Thorns</td>\n",
       "      <td>3412</td>\n",
       "      <td>Celeste Boureille</td>\n",
       "      <td>Lindsey Horan</td>\n",
       "      <td>Emily Sonnett</td>\n",
       "      <td>Britt Eckerstrom</td>\n",
       "      <td>Margaret Purce</td>\n",
       "      <td>Mallory Weber</td>\n",
       "      <td>Meghan Klingenberg</td>\n",
       "      <td>Katherine Reynolds</td>\n",
       "      <td>Tobin Heath</td>\n",
       "      <td>Kelli Hubly</td>\n",
       "      <td>Andressa Cavalari Machry</td>\n",
       "    </tr>\n",
       "  </tbody>\n",
       "</table>\n",
       "</div>"
      ],
      "text/plain": [
       "                     name  formation                   0               1  \\\n",
       "0     Manchester City WFC        433     Julia Spetsmark   Ellie Roebuck   \n",
       "1             Chelsea LFC        352  Magdalena Ericsson    Crystal Dunn   \n",
       "2       Washington Spirit        433    Jessica McDonald  Darian Jenkins   \n",
       "3  North Carolina Courage        442       Andi Sullivan    Taylor Smith   \n",
       "4         Portland Thorns       3412   Celeste Boureille   Lindsey Horan   \n",
       "\n",
       "                    2                 3                    4  \\\n",
       "0     Georgia Stanway        Jill Scott  Isobel Christiansen   \n",
       "1  Maria Thorisdottir       Drew Spence         Maren Mjelde   \n",
       "2          Abby Erceg   Allysha Chapman       Jaelene Hinkle   \n",
       "3     Estelle Johnson     Havana Solaun        Joanna Lohman   \n",
       "4       Emily Sonnett  Britt Eckerstrom       Margaret Purce   \n",
       "\n",
       "                    5                   6                   7  \\\n",
       "0       Claire Emslie       Abbie McManus    Esme Beth Morgan   \n",
       "1  Rut Hedvig Lindahl     Francesca Kirby       Millie Bright   \n",
       "2      Meredith Speck       Lynn Williams    Kristen Hamilton   \n",
       "3      Whitney Church     Mallory Eubanks     Caprice Dydasco   \n",
       "4       Mallory Weber  Meghan Klingenberg  Katherine Reynolds   \n",
       "\n",
       "                 8                      9                          10  \n",
       "0      Nadia Nadim            Demi Stokes                   Jane Ross  \n",
       "1        So-yun Ji  Hannah Jayne Blundell  Anita Amma Ankyewah Asante  \n",
       "2  Abby Dahlkemper        Merritt Mathias           Denise O\"Sullivan  \n",
       "3     Ashley Hatch       Francisca Ordega                Mallory Pugh  \n",
       "4      Tobin Heath            Kelli Hubly    Andressa Cavalari Machry  "
      ]
     },
     "execution_count": 46,
     "metadata": {},
     "output_type": "execute_result"
    }
   ],
   "source": [
    "df.head()"
   ]
  },
  {
   "cell_type": "code",
   "execution_count": null,
   "metadata": {},
   "outputs": [],
   "source": []
  }
 ],
 "metadata": {
  "kernelspec": {
   "display_name": "Python 3",
   "language": "python",
   "name": "python3"
  },
  "language_info": {
   "codemirror_mode": {
    "name": "ipython",
    "version": 3
   },
   "file_extension": ".py",
   "mimetype": "text/x-python",
   "name": "python",
   "nbconvert_exporter": "python",
   "pygments_lexer": "ipython3",
   "version": "3.7.3"
  }
 },
 "nbformat": 4,
 "nbformat_minor": 4
}
