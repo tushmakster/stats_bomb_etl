{
 "cells": [
  {
   "cell_type": "code",
   "execution_count": 3,
   "metadata": {},
   "outputs": [],
   "source": [
    "# Dependencies and Setup\n",
    "import matplotlib.pyplot as plt\n",
    "import pandas as pd\n",
    "import numpy as np\n",
    "\n",
    "import json\n",
    "import os\n",
    "import scandir"
   ]
  },
  {
   "cell_type": "code",
   "execution_count": 5,
   "metadata": {},
   "outputs": [],
   "source": [
    "#Read JSON into object to evaluate\n",
    "\n",
    "# read file\n",
    "with open('7298.json', 'r') as match_file:\n",
    "    data=match_file.read()\n",
    "\n",
    "# parse file\n",
    "obj = json.loads(data)\n",
    "#parsed_json = json.loads(json_string)"
   ]
  },
  {
   "cell_type": "code",
   "execution_count": 6,
   "metadata": {},
   "outputs": [
    {
     "name": "stdout",
     "output_type": "stream",
     "text": [
      "2960\n"
     ]
    }
   ],
   "source": [
    "print(len(obj))"
   ]
  },
  {
   "cell_type": "code",
   "execution_count": 9,
   "metadata": {},
   "outputs": [
    {
     "name": "stdout",
     "output_type": "stream",
     "text": [
      "Ball Receipt*\n",
      "Nikita Parris\n"
     ]
    }
   ],
   "source": [
    "#Some information that can be pulled from match JSON files\n",
    "\n",
    "\n",
    "print(obj[14]['type'].get('name'))\n",
    "\n",
    "print(obj[14]['player'].get('name'))\n",
    "\n",
    "\n"
   ]
  },
  {
   "cell_type": "markdown",
   "metadata": {},
   "source": [
    "\n",
    "type_play = []\n",
    "players = []\n",
    "\n",
    "for i in range(0,(len(obj))):\n",
    "    \n",
    "    try:\n",
    "        type_play.append(obj[i]['type'].get('name'))\n",
    "        players.append(obj[i]['player'].get('name'))\n",
    "        print((obj[i]['player'].get('name')))\n",
    "        \n",
    "    except:\n",
    "        print(\"No Player in key\")\n",
    "        \n",
    "\n",
    "\n",
    "\n"
   ]
  },
  {
   "cell_type": "code",
   "execution_count": 8,
   "metadata": {},
   "outputs": [
    {
     "ename": "NameError",
     "evalue": "name 'type_play' is not defined",
     "output_type": "error",
     "traceback": [
      "\u001b[1;31m---------------------------------------------------------------------------\u001b[0m",
      "\u001b[1;31mNameError\u001b[0m                                 Traceback (most recent call last)",
      "\u001b[1;32m<ipython-input-8-67639a0d3e60>\u001b[0m in \u001b[0;36m<module>\u001b[1;34m\u001b[0m\n\u001b[1;32m----> 1\u001b[1;33m \u001b[0mprint\u001b[0m\u001b[1;33m(\u001b[0m\u001b[0mlen\u001b[0m\u001b[1;33m(\u001b[0m\u001b[0mtype_play\u001b[0m\u001b[1;33m)\u001b[0m\u001b[1;33m)\u001b[0m\u001b[1;33m\u001b[0m\u001b[1;33m\u001b[0m\u001b[0m\n\u001b[0m\u001b[0;32m      2\u001b[0m \u001b[0mprint\u001b[0m\u001b[1;33m(\u001b[0m\u001b[0mlen\u001b[0m\u001b[1;33m(\u001b[0m\u001b[0mplayers\u001b[0m\u001b[1;33m)\u001b[0m\u001b[1;33m)\u001b[0m\u001b[1;33m\u001b[0m\u001b[1;33m\u001b[0m\u001b[0m\n",
      "\u001b[1;31mNameError\u001b[0m: name 'type_play' is not defined"
     ]
    }
   ],
   "source": [
    "print(len(type_play))\n",
    "print(len(players))"
   ]
  },
  {
   "cell_type": "code",
   "execution_count": 35,
   "metadata": {},
   "outputs": [
    {
     "name": "stdout",
     "output_type": "stream",
     "text": [
      "b'./data/test\\\\7298.json'\n",
      "b'./data/test\\\\7430.json'\n"
     ]
    }
   ],
   "source": [
    "directory = os.fsencode(\"./data/test\")\n",
    "\n",
    "for filename in os.listdir(directory):\n",
    "    print(os.path.join(directory,filename))"
   ]
  },
  {
   "cell_type": "code",
   "execution_count": 5,
   "metadata": {},
   "outputs": [
    {
     "name": "stdout",
     "output_type": "stream",
     "text": [
      "b'7298.json'\n",
      "b'7430.json'\n"
     ]
    },
    {
     "ename": "FileNotFoundError",
     "evalue": "[Errno 2] No such file or directory: b'7430.json'",
     "output_type": "error",
     "traceback": [
      "\u001b[1;31m---------------------------------------------------------------------------\u001b[0m",
      "\u001b[1;31mFileNotFoundError\u001b[0m                         Traceback (most recent call last)",
      "\u001b[1;32m<ipython-input-5-7cf87d705b2d>\u001b[0m in \u001b[0;36m<module>\u001b[1;34m\u001b[0m\n\u001b[0;32m      7\u001b[0m \u001b[1;32mfor\u001b[0m \u001b[0mfilename\u001b[0m \u001b[1;32min\u001b[0m \u001b[0mos\u001b[0m\u001b[1;33m.\u001b[0m\u001b[0mlistdir\u001b[0m\u001b[1;33m(\u001b[0m\u001b[0mdirectory\u001b[0m\u001b[1;33m)\u001b[0m\u001b[1;33m:\u001b[0m\u001b[1;33m\u001b[0m\u001b[1;33m\u001b[0m\u001b[0m\n\u001b[0;32m      8\u001b[0m     \u001b[0mprint\u001b[0m\u001b[1;33m(\u001b[0m\u001b[0mfilename\u001b[0m\u001b[1;33m)\u001b[0m\u001b[1;33m\u001b[0m\u001b[1;33m\u001b[0m\u001b[0m\n\u001b[1;32m----> 9\u001b[1;33m     \u001b[1;32mwith\u001b[0m \u001b[0mopen\u001b[0m\u001b[1;33m(\u001b[0m\u001b[0mfilename\u001b[0m\u001b[1;33m,\u001b[0m \u001b[1;34m'r'\u001b[0m\u001b[1;33m)\u001b[0m \u001b[1;32mas\u001b[0m \u001b[0mmatch_file\u001b[0m\u001b[1;33m:\u001b[0m\u001b[1;33m\u001b[0m\u001b[1;33m\u001b[0m\u001b[0m\n\u001b[0m\u001b[0;32m     10\u001b[0m         \u001b[0mdata\u001b[0m\u001b[1;33m=\u001b[0m\u001b[0mmatch_file\u001b[0m\u001b[1;33m.\u001b[0m\u001b[0mread\u001b[0m\u001b[1;33m(\u001b[0m\u001b[1;33m)\u001b[0m\u001b[1;33m\u001b[0m\u001b[1;33m\u001b[0m\u001b[0m\n\u001b[0;32m     11\u001b[0m         \u001b[0mobj\u001b[0m \u001b[1;33m=\u001b[0m \u001b[0mjson\u001b[0m\u001b[1;33m.\u001b[0m\u001b[0mloads\u001b[0m\u001b[1;33m(\u001b[0m\u001b[0mdata\u001b[0m\u001b[1;33m)\u001b[0m\u001b[1;33m\u001b[0m\u001b[1;33m\u001b[0m\u001b[0m\n",
      "\u001b[1;31mFileNotFoundError\u001b[0m: [Errno 2] No such file or directory: b'7430.json'"
     ]
    }
   ],
   "source": [
    "type_play = []\n",
    "players = []\n",
    "no_player = 0\n",
    "\n",
    "directory = os.fsencode(\"./data/test\")\n",
    "\n",
    "for filename in os.listdir(directory):\n",
    "    print(filename)\n",
    "    with open(filename, 'r') as match_file:\n",
    "        data=match_file.read()\n",
    "        obj = json.loads(data)  \n",
    "          \n",
    "\n",
    "        for i in range(0,(len(obj))):\n",
    "    \n",
    "            try:\n",
    "                type_play.append(obj[i]['type'].get('name'))\n",
    "                players.append(obj[i]['player'].get('name'))\n",
    "                #print((obj[i]['player'].get('name')))\n",
    "        \n",
    "            except:\n",
    "                no_player = no_player + 1\n",
    "                \n",
    "print(len(players))\n",
    "print(len(type_play))"
   ]
  },
  {
   "cell_type": "code",
   "execution_count": 7,
   "metadata": {},
   "outputs": [
    {
     "name": "stdout",
     "output_type": "stream",
     "text": [
      "b'./test\\\\3.json'\n",
      "b'./test\\\\30.json'\n"
     ]
    }
   ],
   "source": [
    "directory = os.fsencode(\"./test\")\n",
    "\n",
    "for filename in os.listdir(directory):\n",
    "    print(os.path.join(directory,filename))"
   ]
  },
  {
   "cell_type": "code",
   "execution_count": 8,
   "metadata": {},
   "outputs": [
    {
     "name": "stdout",
     "output_type": "stream",
     "text": [
      "88\n"
     ]
    }
   ],
   "source": [
    "#Read multiple files within one directory and extract match_numbers from JSON\n",
    "\n",
    "match_numbers= []\n",
    "\n",
    "directory = os.fsencode(\"./test\")\n",
    "\n",
    "for filename in os.listdir(directory):\n",
    "    with open(filename, 'r') as match_file:\n",
    "        data=match_file.read()\n",
    "        obj = json.loads(data)\n",
    "    \n",
    "    for i in range(0,(len(obj))):\n",
    "        match_numbers.append(obj[i]['match_id'])\n",
    "        \n",
    "        \n",
    "print(len(match_numbers))    "
   ]
  },
  {
   "cell_type": "code",
   "execution_count": 9,
   "metadata": {},
   "outputs": [
    {
     "name": "stdout",
     "output_type": "stream",
     "text": [
      "0\n",
      "[]\n"
     ]
    }
   ],
   "source": [
    "#Test 1 - Listing all files to be analyzed across multiple directories\n",
    "#Populate variable file_list path and file name\n",
    "#Use this list of files to parse the JSON\n",
    "\n",
    "rootdir = \"../open-data-master/data/matches/\"\n",
    "\n",
    "file_list=[]\n",
    "\n",
    "for paths, dir, files in scandir.walk(rootdir):\n",
    "    for file in files:\n",
    "        if file.endswith(\".json\"):\n",
    "            file_list.append(os.path.join(paths, file))\n",
    "\n",
    "print (len(file_list))\n",
    "print(file_list)"
   ]
  },
  {
   "cell_type": "code",
   "execution_count": 16,
   "metadata": {},
   "outputs": [
    {
     "name": "stdout",
     "output_type": "stream",
     "text": [
      "6\n",
      "../open-data-master/data/matches/../open-data-master/data/matches\\30.json\n"
     ]
    }
   ],
   "source": [
    "#Test 2 - Yet another failure\n",
    "\n",
    "rootdir = \"../open-data-master/data/matches/\"\n",
    "\n",
    "file_list=[]\n",
    "\n",
    "for paths, dir, files in scandir.walk(rootdir):\n",
    "    file_list.append(os.path.join(paths, file))\n",
    "\n",
    "print (len(file_list))\n",
    "print(file_list[0])"
   ]
  },
  {
   "cell_type": "code",
   "execution_count": 14,
   "metadata": {},
   "outputs": [
    {
     "ename": "FileNotFoundError",
     "evalue": "[WinError 3] The system cannot find the path specified: b'../open-data-master/data/matches\\\\30.json'",
     "output_type": "error",
     "traceback": [
      "\u001b[1;31m---------------------------------------------------------------------------\u001b[0m",
      "\u001b[1;31mFileNotFoundError\u001b[0m                         Traceback (most recent call last)",
      "\u001b[1;32m<ipython-input-14-b32edf269d23>\u001b[0m in \u001b[0;36m<module>\u001b[1;34m\u001b[0m\n\u001b[0;32m     13\u001b[0m     \u001b[0mdirectory\u001b[0m \u001b[1;33m=\u001b[0m \u001b[0mos\u001b[0m\u001b[1;33m.\u001b[0m\u001b[0mfsencode\u001b[0m\u001b[1;33m(\u001b[0m\u001b[0mfile\u001b[0m\u001b[1;33m)\u001b[0m\u001b[1;33m\u001b[0m\u001b[1;33m\u001b[0m\u001b[0m\n\u001b[0;32m     14\u001b[0m \u001b[1;33m\u001b[0m\u001b[0m\n\u001b[1;32m---> 15\u001b[1;33m     \u001b[1;32mfor\u001b[0m \u001b[0mfilename\u001b[0m \u001b[1;32min\u001b[0m \u001b[0mos\u001b[0m\u001b[1;33m.\u001b[0m\u001b[0mlistdir\u001b[0m\u001b[1;33m(\u001b[0m\u001b[0mdirectory\u001b[0m\u001b[1;33m)\u001b[0m\u001b[1;33m:\u001b[0m\u001b[1;33m\u001b[0m\u001b[1;33m\u001b[0m\u001b[0m\n\u001b[0m\u001b[0;32m     16\u001b[0m         \u001b[1;32mwith\u001b[0m \u001b[0mopen\u001b[0m\u001b[1;33m(\u001b[0m\u001b[0mfilename\u001b[0m\u001b[1;33m,\u001b[0m \u001b[1;34m'r'\u001b[0m\u001b[1;33m)\u001b[0m \u001b[1;32mas\u001b[0m \u001b[0mmatch_file\u001b[0m\u001b[1;33m:\u001b[0m\u001b[1;33m\u001b[0m\u001b[1;33m\u001b[0m\u001b[0m\n\u001b[0;32m     17\u001b[0m             \u001b[0mdata\u001b[0m\u001b[1;33m=\u001b[0m\u001b[0mmatch_file\u001b[0m\u001b[1;33m.\u001b[0m\u001b[0mread\u001b[0m\u001b[1;33m(\u001b[0m\u001b[1;33m)\u001b[0m\u001b[1;33m\u001b[0m\u001b[1;33m\u001b[0m\u001b[0m\n",
      "\u001b[1;31mFileNotFoundError\u001b[0m: [WinError 3] The system cannot find the path specified: b'../open-data-master/data/matches\\\\30.json'"
     ]
    }
   ],
   "source": [
    "#Combining directory walk and path/file list to evaluate JSON\n",
    "\n",
    "rootdir = \"../open-data-master/data/matches\"\n",
    "\n",
    "file_list=[]\n",
    "\n",
    "for paths, dirs, files in scandir.walk(rootdir):\n",
    "    if file.endswith(\".json\"):\n",
    "        file_list.append(os.path.join(paths,file))\n",
    "\n",
    "\n",
    "match_numbers= []\n",
    "\n",
    "for file in file_list:\n",
    "    directory = os.fsencode(file)\n",
    "\n",
    "    for filename in os.listdir(directory):\n",
    "        with open(filename, 'r') as match_file:\n",
    "            data=match_file.read()\n",
    "            obj = json.loads(data)\n",
    "    \n",
    "        for i in range(0,(len(obj))):\n",
    "            match_numbers.append(obj[i]['match_id'])\n",
    "        \n",
    "        \n",
    "print(len(match_numbers))    "
   ]
  },
  {
   "cell_type": "code",
   "execution_count": null,
   "metadata": {},
   "outputs": [],
   "source": []
  },
  {
   "cell_type": "code",
   "execution_count": 2,
   "metadata": {},
   "outputs": [
    {
     "name": "stdout",
     "output_type": "stream",
     "text": [
      "Collecting scandir\n",
      "  Downloading https://files.pythonhosted.org/packages/cb/06/cee31a831784ae66073fff7df58f823a1f6bc3947dc48a76f877b17eb52b/scandir-1.10.0-cp37-cp37m-win_amd64.whl\n",
      "Installing collected packages: scandir\n",
      "Successfully installed scandir-1.10.0\n"
     ]
    }
   ],
   "source": [
    "!pip install scandir"
   ]
  }
 ],
 "metadata": {
  "kernelspec": {
   "display_name": "Python 3",
   "language": "python",
   "name": "python3"
  },
  "language_info": {
   "codemirror_mode": {
    "name": "ipython",
    "version": 3
   },
   "file_extension": ".py",
   "mimetype": "text/x-python",
   "name": "python",
   "nbconvert_exporter": "python",
   "pygments_lexer": "ipython3",
   "version": "3.7.3"
  }
 },
 "nbformat": 4,
 "nbformat_minor": 4
}
