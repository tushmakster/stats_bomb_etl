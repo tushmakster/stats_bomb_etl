{
 "cells": [
  {
   "cell_type": "code",
   "execution_count": 2,
   "metadata": {},
   "outputs": [
    {
     "ename": "ModuleNotFoundError",
     "evalue": "No module named 'scandir'",
     "output_type": "error",
     "traceback": [
      "\u001b[0;31m---------------------------------------------------------------------------\u001b[0m",
      "\u001b[0;31mModuleNotFoundError\u001b[0m                       Traceback (most recent call last)",
      "\u001b[0;32m<ipython-input-2-3b28b36e78ee>\u001b[0m in \u001b[0;36m<module>\u001b[0;34m\u001b[0m\n\u001b[1;32m      6\u001b[0m \u001b[0;32mimport\u001b[0m \u001b[0mjson\u001b[0m\u001b[0;34m\u001b[0m\u001b[0;34m\u001b[0m\u001b[0m\n\u001b[1;32m      7\u001b[0m \u001b[0;32mimport\u001b[0m \u001b[0mos\u001b[0m\u001b[0;34m\u001b[0m\u001b[0;34m\u001b[0m\u001b[0m\n\u001b[0;32m----> 8\u001b[0;31m \u001b[0;32mimport\u001b[0m \u001b[0mscandir\u001b[0m\u001b[0;34m\u001b[0m\u001b[0;34m\u001b[0m\u001b[0m\n\u001b[0m",
      "\u001b[0;31mModuleNotFoundError\u001b[0m: No module named 'scandir'"
     ]
    }
   ],
   "source": [
    "# Dependencies and Setup\n",
    "import matplotlib.pyplot as plt\n",
    "import pandas as pd\n",
    "import numpy as np\n",
    "\n",
    "import json\n",
    "import os\n",
    "import scandir"
   ]
  },
  {
   "cell_type": "code",
   "execution_count": 3,
   "metadata": {},
   "outputs": [
    {
     "data": {
      "text/html": [
       "<div>\n",
       "<style scoped>\n",
       "    .dataframe tbody tr th:only-of-type {\n",
       "        vertical-align: middle;\n",
       "    }\n",
       "\n",
       "    .dataframe tbody tr th {\n",
       "        vertical-align: top;\n",
       "    }\n",
       "\n",
       "    .dataframe thead th {\n",
       "        text-align: right;\n",
       "    }\n",
       "</style>\n",
       "<table border=\"1\" class=\"dataframe\">\n",
       "  <thead>\n",
       "    <tr style=\"text-align: right;\">\n",
       "      <th></th>\n",
       "      <th>competition_gender</th>\n",
       "      <th>competition_id</th>\n",
       "      <th>competition_name</th>\n",
       "      <th>country_name</th>\n",
       "      <th>match_available</th>\n",
       "      <th>match_updated</th>\n",
       "      <th>season_id</th>\n",
       "      <th>season_name</th>\n",
       "    </tr>\n",
       "  </thead>\n",
       "  <tbody>\n",
       "    <tr>\n",
       "      <th>0</th>\n",
       "      <td>female</td>\n",
       "      <td>37</td>\n",
       "      <td>FA Women's Super League</td>\n",
       "      <td>England</td>\n",
       "      <td>2019-11-02T11:07:36.643</td>\n",
       "      <td>2019-11-02T11:07:36.643</td>\n",
       "      <td>42</td>\n",
       "      <td>2019/2020</td>\n",
       "    </tr>\n",
       "    <tr>\n",
       "      <th>1</th>\n",
       "      <td>female</td>\n",
       "      <td>37</td>\n",
       "      <td>FA Women's Super League</td>\n",
       "      <td>England</td>\n",
       "      <td>2019-10-27T11:05:58.079</td>\n",
       "      <td>2019-10-27T11:05:58.079</td>\n",
       "      <td>4</td>\n",
       "      <td>2018/2019</td>\n",
       "    </tr>\n",
       "    <tr>\n",
       "      <th>2</th>\n",
       "      <td>male</td>\n",
       "      <td>43</td>\n",
       "      <td>FIFA World Cup</td>\n",
       "      <td>International</td>\n",
       "      <td>2019-06-23T12:38:35.142</td>\n",
       "      <td>2019-06-23T12:38:35.142</td>\n",
       "      <td>3</td>\n",
       "      <td>2018</td>\n",
       "    </tr>\n",
       "    <tr>\n",
       "      <th>3</th>\n",
       "      <td>male</td>\n",
       "      <td>11</td>\n",
       "      <td>La Liga</td>\n",
       "      <td>Spain</td>\n",
       "      <td>2019-07-29T20:44:30.861</td>\n",
       "      <td>2019-07-29T20:44:30.861</td>\n",
       "      <td>27</td>\n",
       "      <td>2015/2016</td>\n",
       "    </tr>\n",
       "    <tr>\n",
       "      <th>4</th>\n",
       "      <td>male</td>\n",
       "      <td>11</td>\n",
       "      <td>La Liga</td>\n",
       "      <td>Spain</td>\n",
       "      <td>2019-07-30T12:42:05.563</td>\n",
       "      <td>2019-07-30T12:42:05.563</td>\n",
       "      <td>26</td>\n",
       "      <td>2014/2015</td>\n",
       "    </tr>\n",
       "    <tr>\n",
       "      <th>5</th>\n",
       "      <td>male</td>\n",
       "      <td>11</td>\n",
       "      <td>La Liga</td>\n",
       "      <td>Spain</td>\n",
       "      <td>2019-07-24T19:44:48.866</td>\n",
       "      <td>2019-07-24T19:44:48.866</td>\n",
       "      <td>25</td>\n",
       "      <td>2013/2014</td>\n",
       "    </tr>\n",
       "    <tr>\n",
       "      <th>6</th>\n",
       "      <td>male</td>\n",
       "      <td>11</td>\n",
       "      <td>La Liga</td>\n",
       "      <td>Spain</td>\n",
       "      <td>2019-07-29T17:46:18.935</td>\n",
       "      <td>2019-07-29T17:46:18.935</td>\n",
       "      <td>24</td>\n",
       "      <td>2012/2013</td>\n",
       "    </tr>\n",
       "    <tr>\n",
       "      <th>7</th>\n",
       "      <td>male</td>\n",
       "      <td>11</td>\n",
       "      <td>La Liga</td>\n",
       "      <td>Spain</td>\n",
       "      <td>2019-08-27T09:48:17.842</td>\n",
       "      <td>2019-08-27T09:48:17.842</td>\n",
       "      <td>23</td>\n",
       "      <td>2011/2012</td>\n",
       "    </tr>\n",
       "    <tr>\n",
       "      <th>8</th>\n",
       "      <td>male</td>\n",
       "      <td>11</td>\n",
       "      <td>La Liga</td>\n",
       "      <td>Spain</td>\n",
       "      <td>2019-08-01T17:44:54.870</td>\n",
       "      <td>2019-08-01T17:44:54.870</td>\n",
       "      <td>22</td>\n",
       "      <td>2010/2011</td>\n",
       "    </tr>\n",
       "    <tr>\n",
       "      <th>9</th>\n",
       "      <td>male</td>\n",
       "      <td>11</td>\n",
       "      <td>La Liga</td>\n",
       "      <td>Spain</td>\n",
       "      <td>2019-07-11T07:44:14.533</td>\n",
       "      <td>2019-07-11T07:44:14.533</td>\n",
       "      <td>21</td>\n",
       "      <td>2009/2010</td>\n",
       "    </tr>\n",
       "    <tr>\n",
       "      <th>10</th>\n",
       "      <td>male</td>\n",
       "      <td>11</td>\n",
       "      <td>La Liga</td>\n",
       "      <td>Spain</td>\n",
       "      <td>2019-07-06T22:42:14.468</td>\n",
       "      <td>2019-07-06T22:42:14.468</td>\n",
       "      <td>41</td>\n",
       "      <td>2008/2009</td>\n",
       "    </tr>\n",
       "    <tr>\n",
       "      <th>11</th>\n",
       "      <td>male</td>\n",
       "      <td>11</td>\n",
       "      <td>La Liga</td>\n",
       "      <td>Spain</td>\n",
       "      <td>2019-07-04T10:05:48.149</td>\n",
       "      <td>2019-07-04T10:05:48.149</td>\n",
       "      <td>40</td>\n",
       "      <td>2007/2008</td>\n",
       "    </tr>\n",
       "    <tr>\n",
       "      <th>12</th>\n",
       "      <td>male</td>\n",
       "      <td>11</td>\n",
       "      <td>La Liga</td>\n",
       "      <td>Spain</td>\n",
       "      <td>2019-07-02T12:37:13.627</td>\n",
       "      <td>2019-07-02T12:37:13.627</td>\n",
       "      <td>39</td>\n",
       "      <td>2006/2007</td>\n",
       "    </tr>\n",
       "    <tr>\n",
       "      <th>13</th>\n",
       "      <td>male</td>\n",
       "      <td>11</td>\n",
       "      <td>La Liga</td>\n",
       "      <td>Spain</td>\n",
       "      <td>2019-07-02T14:37:04.106</td>\n",
       "      <td>2019-07-02T14:37:04.106</td>\n",
       "      <td>38</td>\n",
       "      <td>2005/2006</td>\n",
       "    </tr>\n",
       "    <tr>\n",
       "      <th>14</th>\n",
       "      <td>male</td>\n",
       "      <td>11</td>\n",
       "      <td>La Liga</td>\n",
       "      <td>Spain</td>\n",
       "      <td>2019-06-28T12:41:15.620</td>\n",
       "      <td>2019-06-28T12:41:15.620</td>\n",
       "      <td>37</td>\n",
       "      <td>2004/2005</td>\n",
       "    </tr>\n",
       "    <tr>\n",
       "      <th>15</th>\n",
       "      <td>female</td>\n",
       "      <td>49</td>\n",
       "      <td>NWSL</td>\n",
       "      <td>United States of America</td>\n",
       "      <td>2019-10-27T11:36:01.360336</td>\n",
       "      <td>2019-10-27T11:36:01.360336</td>\n",
       "      <td>3</td>\n",
       "      <td>2018</td>\n",
       "    </tr>\n",
       "    <tr>\n",
       "      <th>16</th>\n",
       "      <td>female</td>\n",
       "      <td>72</td>\n",
       "      <td>Women's World Cup</td>\n",
       "      <td>International</td>\n",
       "      <td>2019-07-10T13:51:28.459</td>\n",
       "      <td>2019-07-10T13:51:28.459</td>\n",
       "      <td>30</td>\n",
       "      <td>2019</td>\n",
       "    </tr>\n",
       "  </tbody>\n",
       "</table>\n",
       "</div>"
      ],
      "text/plain": [
       "   competition_gender  competition_id         competition_name  \\\n",
       "0              female              37  FA Women's Super League   \n",
       "1              female              37  FA Women's Super League   \n",
       "2                male              43           FIFA World Cup   \n",
       "3                male              11                  La Liga   \n",
       "4                male              11                  La Liga   \n",
       "5                male              11                  La Liga   \n",
       "6                male              11                  La Liga   \n",
       "7                male              11                  La Liga   \n",
       "8                male              11                  La Liga   \n",
       "9                male              11                  La Liga   \n",
       "10               male              11                  La Liga   \n",
       "11               male              11                  La Liga   \n",
       "12               male              11                  La Liga   \n",
       "13               male              11                  La Liga   \n",
       "14               male              11                  La Liga   \n",
       "15             female              49                     NWSL   \n",
       "16             female              72        Women's World Cup   \n",
       "\n",
       "                country_name             match_available  \\\n",
       "0                    England     2019-11-02T11:07:36.643   \n",
       "1                    England     2019-10-27T11:05:58.079   \n",
       "2              International     2019-06-23T12:38:35.142   \n",
       "3                      Spain     2019-07-29T20:44:30.861   \n",
       "4                      Spain     2019-07-30T12:42:05.563   \n",
       "5                      Spain     2019-07-24T19:44:48.866   \n",
       "6                      Spain     2019-07-29T17:46:18.935   \n",
       "7                      Spain     2019-08-27T09:48:17.842   \n",
       "8                      Spain     2019-08-01T17:44:54.870   \n",
       "9                      Spain     2019-07-11T07:44:14.533   \n",
       "10                     Spain     2019-07-06T22:42:14.468   \n",
       "11                     Spain     2019-07-04T10:05:48.149   \n",
       "12                     Spain     2019-07-02T12:37:13.627   \n",
       "13                     Spain     2019-07-02T14:37:04.106   \n",
       "14                     Spain     2019-06-28T12:41:15.620   \n",
       "15  United States of America  2019-10-27T11:36:01.360336   \n",
       "16             International     2019-07-10T13:51:28.459   \n",
       "\n",
       "                 match_updated  season_id season_name  \n",
       "0      2019-11-02T11:07:36.643         42   2019/2020  \n",
       "1      2019-10-27T11:05:58.079          4   2018/2019  \n",
       "2      2019-06-23T12:38:35.142          3        2018  \n",
       "3      2019-07-29T20:44:30.861         27   2015/2016  \n",
       "4      2019-07-30T12:42:05.563         26   2014/2015  \n",
       "5      2019-07-24T19:44:48.866         25   2013/2014  \n",
       "6      2019-07-29T17:46:18.935         24   2012/2013  \n",
       "7      2019-08-27T09:48:17.842         23   2011/2012  \n",
       "8      2019-08-01T17:44:54.870         22   2010/2011  \n",
       "9      2019-07-11T07:44:14.533         21   2009/2010  \n",
       "10     2019-07-06T22:42:14.468         41   2008/2009  \n",
       "11     2019-07-04T10:05:48.149         40   2007/2008  \n",
       "12     2019-07-02T12:37:13.627         39   2006/2007  \n",
       "13     2019-07-02T14:37:04.106         38   2005/2006  \n",
       "14     2019-06-28T12:41:15.620         37   2004/2005  \n",
       "15  2019-10-27T11:36:01.360336          3        2018  \n",
       "16     2019-07-10T13:51:28.459         30        2019  "
      ]
     },
     "execution_count": 3,
     "metadata": {},
     "output_type": "execute_result"
    }
   ],
   "source": [
    "comp_df = pd.read_json('competitions.json')\n",
    "comp_df"
   ]
  },
  {
   "cell_type": "code",
   "execution_count": 3,
   "metadata": {},
   "outputs": [],
   "source": [
    "#Read JSON into object to evaluate\n",
    "\n",
    "# read file\n",
    "with open('30.json', 'r') as match_file:\n",
    "    data=match_file.read()\n",
    "\n",
    "# parse file\n",
    "obj = json.loads(data)\n",
    "#parsed_json = json.loads(json_string)"
   ]
  },
  {
   "cell_type": "code",
   "execution_count": null,
   "metadata": {},
   "outputs": [],
   "source": [
    "#Columns for match df\n",
    "#"
   ]
  },
  {
   "cell_type": "code",
   "execution_count": 4,
   "metadata": {},
   "outputs": [
    {
     "name": "stdout",
     "output_type": "stream",
     "text": [
      "52\n"
     ]
    }
   ],
   "source": [
    "print(len(obj))"
   ]
  },
  {
   "cell_type": "code",
   "execution_count": 5,
   "metadata": {},
   "outputs": [
    {
     "name": "stdout",
     "output_type": "stream",
     "text": [
      "22930\n",
      "2019-06-08\n",
      "Women's World Cup\n",
      "Spain Women's\n",
      "South Africa Women's\n"
     ]
    }
   ],
   "source": [
    "#Some information that can be pulled from match JSON files\n",
    "\n",
    "print(obj[0].get('match_id'))\n",
    "print(obj[0].get('match_date'))\n",
    "print(obj[0]['competition'].get('competition_name'))\n",
    "\n",
    "print(obj[0]['home_team'].get('home_team_name'))\n",
    "print(obj[0]['away_team'].get('away_team_name'))\n",
    "\n"
   ]
  },
  {
   "cell_type": "code",
   "execution_count": 6,
   "metadata": {},
   "outputs": [
    {
     "name": "stdout",
     "output_type": "stream",
     "text": [
      "52\n"
     ]
    }
   ],
   "source": [
    "match_numbers = []\n",
    "\n",
    "for i in range(0,(len(obj))):\n",
    "    match_numbers.append(obj[i]['match_id'])\n",
    "print(len(match_numbers))"
   ]
  },
  {
   "cell_type": "code",
   "execution_count": 4,
   "metadata": {},
   "outputs": [
    {
     "ename": "NameError",
     "evalue": "name 'match_numbers' is not defined",
     "output_type": "error",
     "traceback": [
      "\u001b[0;31m---------------------------------------------------------------------------\u001b[0m",
      "\u001b[0;31mNameError\u001b[0m                                 Traceback (most recent call last)",
      "\u001b[0;32m<ipython-input-4-22563697661e>\u001b[0m in \u001b[0;36m<module>\u001b[0;34m\u001b[0m\n\u001b[0;32m----> 1\u001b[0;31m \u001b[0mmatch_numbers\u001b[0m\u001b[0;34m\u001b[0m\u001b[0;34m\u001b[0m\u001b[0m\n\u001b[0m",
      "\u001b[0;31mNameError\u001b[0m: name 'match_numbers' is not defined"
     ]
    }
   ],
   "source": []
  },
  {
   "cell_type": "code",
   "execution_count": 7,
   "metadata": {},
   "outputs": [],
   "source": [
    "#for match in obj:\n",
    "    #print (obj[0].get('match_id'))"
   ]
  },
  {
   "cell_type": "code",
   "execution_count": 8,
   "metadata": {},
   "outputs": [
    {
     "name": "stdout",
     "output_type": "stream",
     "text": [
      "b'./test\\\\3.json'\n",
      "b'./test\\\\30.json'\n"
     ]
    }
   ],
   "source": [
    "directory = os.fsencode(\"./test\")\n",
    "\n",
    "for filename in os.listdir(directory):\n",
    "    print(os.path.join(directory,filename))"
   ]
  },
  {
   "cell_type": "code",
   "execution_count": 9,
   "metadata": {},
   "outputs": [
    {
     "name": "stdout",
     "output_type": "stream",
     "text": [
      "88\n"
     ]
    }
   ],
   "source": [
    "#Read multiple files within one directory and extract match_numbers from JSON\n",
    "\n",
    "match_numbers= []\n",
    "\n",
    "directory = os.fsencode(\"./test\")\n",
    "\n",
    "for filename in os.listdir(directory):\n",
    "    with open(filename, 'r') as match_file:\n",
    "        data=match_file.read()\n",
    "        obj = json.loads(data)\n",
    "    \n",
    "    for i in range(0,(len(obj))):\n",
    "        match_numbers.append(obj[i]['match_id'])\n",
    "        \n",
    "        \n",
    "print(len(match_numbers))    "
   ]
  },
  {
   "cell_type": "code",
   "execution_count": 12,
   "metadata": {},
   "outputs": [
    {
     "name": "stdout",
     "output_type": "stream",
     "text": [
      "17\n",
      "['../open-data-master/data/matches/11\\\\21.json', '../open-data-master/data/matches/11\\\\22.json', '../open-data-master/data/matches/11\\\\23.json', '../open-data-master/data/matches/11\\\\24.json', '../open-data-master/data/matches/11\\\\25.json', '../open-data-master/data/matches/11\\\\26.json', '../open-data-master/data/matches/11\\\\27.json', '../open-data-master/data/matches/11\\\\37.json', '../open-data-master/data/matches/11\\\\38.json', '../open-data-master/data/matches/11\\\\39.json', '../open-data-master/data/matches/11\\\\40.json', '../open-data-master/data/matches/11\\\\41.json', '../open-data-master/data/matches/37\\\\4.json', '../open-data-master/data/matches/37\\\\42.json', '../open-data-master/data/matches/43\\\\3.json', '../open-data-master/data/matches/49\\\\3.json', '../open-data-master/data/matches/72\\\\30.json']\n"
     ]
    }
   ],
   "source": [
    "#Test 1 - Listing all files to be analyzed across multiple directories\n",
    "#Populate variable file_list path and file name\n",
    "#Use this list of files to parse the JSON\n",
    "\n",
    "rootdir = \"../open-data-master/data/matches/\"\n",
    "\n",
    "file_list=[]\n",
    "\n",
    "for paths, dir, files in scandir.walk(rootdir):\n",
    "    for file in files:\n",
    "        if file.endswith(\".json\"):\n",
    "            file_list.append(os.path.join(paths, file))\n",
    "\n",
    "print (len(file_list))\n",
    "print(file_list)"
   ]
  },
  {
   "cell_type": "code",
   "execution_count": 16,
   "metadata": {},
   "outputs": [
    {
     "name": "stdout",
     "output_type": "stream",
     "text": [
      "6\n",
      "../open-data-master/data/matches/../open-data-master/data/matches\\30.json\n"
     ]
    }
   ],
   "source": [
    "#Test 2 - Yet another failure\n",
    "\n",
    "rootdir = \"../open-data-master/data/matches/\"\n",
    "\n",
    "file_list=[]\n",
    "\n",
    "for paths, dir, files in scandir.walk(rootdir):\n",
    "    file_list.append(os.path.join(paths, file))\n",
    "\n",
    "print (len(file_list))\n",
    "print(file_list[0])"
   ]
  },
  {
   "cell_type": "code",
   "execution_count": 14,
   "metadata": {},
   "outputs": [
    {
     "ename": "FileNotFoundError",
     "evalue": "[WinError 3] The system cannot find the path specified: b'../open-data-master/data/matches\\\\30.json'",
     "output_type": "error",
     "traceback": [
      "\u001b[1;31m---------------------------------------------------------------------------\u001b[0m",
      "\u001b[1;31mFileNotFoundError\u001b[0m                         Traceback (most recent call last)",
      "\u001b[1;32m<ipython-input-14-b32edf269d23>\u001b[0m in \u001b[0;36m<module>\u001b[1;34m\u001b[0m\n\u001b[0;32m     13\u001b[0m     \u001b[0mdirectory\u001b[0m \u001b[1;33m=\u001b[0m \u001b[0mos\u001b[0m\u001b[1;33m.\u001b[0m\u001b[0mfsencode\u001b[0m\u001b[1;33m(\u001b[0m\u001b[0mfile\u001b[0m\u001b[1;33m)\u001b[0m\u001b[1;33m\u001b[0m\u001b[1;33m\u001b[0m\u001b[0m\n\u001b[0;32m     14\u001b[0m \u001b[1;33m\u001b[0m\u001b[0m\n\u001b[1;32m---> 15\u001b[1;33m     \u001b[1;32mfor\u001b[0m \u001b[0mfilename\u001b[0m \u001b[1;32min\u001b[0m \u001b[0mos\u001b[0m\u001b[1;33m.\u001b[0m\u001b[0mlistdir\u001b[0m\u001b[1;33m(\u001b[0m\u001b[0mdirectory\u001b[0m\u001b[1;33m)\u001b[0m\u001b[1;33m:\u001b[0m\u001b[1;33m\u001b[0m\u001b[1;33m\u001b[0m\u001b[0m\n\u001b[0m\u001b[0;32m     16\u001b[0m         \u001b[1;32mwith\u001b[0m \u001b[0mopen\u001b[0m\u001b[1;33m(\u001b[0m\u001b[0mfilename\u001b[0m\u001b[1;33m,\u001b[0m \u001b[1;34m'r'\u001b[0m\u001b[1;33m)\u001b[0m \u001b[1;32mas\u001b[0m \u001b[0mmatch_file\u001b[0m\u001b[1;33m:\u001b[0m\u001b[1;33m\u001b[0m\u001b[1;33m\u001b[0m\u001b[0m\n\u001b[0;32m     17\u001b[0m             \u001b[0mdata\u001b[0m\u001b[1;33m=\u001b[0m\u001b[0mmatch_file\u001b[0m\u001b[1;33m.\u001b[0m\u001b[0mread\u001b[0m\u001b[1;33m(\u001b[0m\u001b[1;33m)\u001b[0m\u001b[1;33m\u001b[0m\u001b[1;33m\u001b[0m\u001b[0m\n",
      "\u001b[1;31mFileNotFoundError\u001b[0m: [WinError 3] The system cannot find the path specified: b'../open-data-master/data/matches\\\\30.json'"
     ]
    }
   ],
   "source": [
    "#Combining directory walk and path/file list to evaluate JSON\n",
    "\n",
    "rootdir = \"../open-data-master/data/matches\"\n",
    "\n",
    "file_list=[]\n",
    "\n",
    "for paths, dirs, files in scandir.walk(rootdir):\n",
    "    if file.endswith(\".json\"):\n",
    "        file_list.append(os.path.join(paths,file))\n",
    "\n",
    "\n",
    "match_numbers= []\n",
    "\n",
    "for file in file_list:\n",
    "    directory = os.fsencode(file)\n",
    "\n",
    "    for filename in os.listdir(directory):\n",
    "        with open(filename, 'r') as match_file:\n",
    "            data=match_file.read()\n",
    "            obj = json.loads(data)\n",
    "    \n",
    "        for i in range(0,(len(obj))):\n",
    "            match_numbers.append(obj[i]['match_id'])\n",
    "        \n",
    "        \n",
    "print(len(match_numbers))    "
   ]
  },
  {
   "cell_type": "code",
   "execution_count": null,
   "metadata": {},
   "outputs": [],
   "source": []
  }
 ],
 "metadata": {
  "kernelspec": {
   "display_name": "Python 3",
   "language": "python",
   "name": "python3"
  },
  "language_info": {
   "codemirror_mode": {
    "name": "ipython",
    "version": 3
   },
   "file_extension": ".py",
   "mimetype": "text/x-python",
   "name": "python",
   "nbconvert_exporter": "python",
   "pygments_lexer": "ipython3",
   "version": "3.7.3"
  }
 },
 "nbformat": 4,
 "nbformat_minor": 4
}
